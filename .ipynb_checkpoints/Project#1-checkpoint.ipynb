{
 "cells": [
  {
   "cell_type": "code",
   "execution_count": 35,
   "metadata": {},
   "outputs": [],
   "source": [
    "import pandas as pd\n",
    "import numpy as np\n",
    "from numpy.random import randint\n",
    "import matplotlib.pyplot as plt\n",
    "import seaborn as sns\n",
    "from random import randint\n",
    "\n",
    "\n",
    "\n",
    "\n",
    "%matplotlib inline"
   ]
  },
  {
   "cell_type": "code",
   "execution_count": 36,
   "metadata": {},
   "outputs": [],
   "source": [
    "import pyspark as ps\n",
    "import pyspark.sql.functions as F\n",
    "from pyspark import SQLContext\n",
    "from pyspark.ml.feature import MinMaxScaler, VectorAssembler\n",
    "from pyspark.ml.regression import LinearRegression\n",
    "from pyspark.ml.classification import LogisticRegression\n",
    "from pyspark.ml import Pipeline\n",
    "from pyspark.ml.feature import RegexTokenizer, HashingTF\n",
    "\n",
    "spark = ps.sql.SparkSession.builder \\\n",
    "    .master('local[4]') \\\n",
    "    .appName('Project#1') \\\n",
    "    .getOrCreate()\n",
    "\n",
    "sc = spark.sparkContext\n",
    "\n"
   ]
  },
  {
   "cell_type": "code",
   "execution_count": 37,
   "metadata": {},
   "outputs": [],
   "source": [
    "\n",
    "sqlContext = SQLContext(sc)"
   ]
  },
  {
   "cell_type": "code",
   "execution_count": 38,
   "metadata": {},
   "outputs": [],
   "source": [
    "sq = sqlContext.read.csv('TeamStats.csv',\n",
    "                         header=True,\n",
    "                         quote='\"',\n",
    "                         sep=',',\n",
    "                         inferSchema=True)\n",
    "                         \n",
    "\n"
   ]
  },
  {
   "cell_type": "code",
   "execution_count": null,
   "metadata": {},
   "outputs": [],
   "source": []
  },
  {
   "cell_type": "code",
   "execution_count": 39,
   "metadata": {},
   "outputs": [
    {
     "data": {
      "text/plain": [
       "StructType(List(StructField(TeamName,StringType,true),StructField(country,StringType,true),StructField(MatchesPlayed,IntegerType,true),StructField(wins,IntegerType,true),StructField(draws,IntegerType,true),StructField(losses,IntegerType,true),StructField(league_position,IntegerType,true),StructField(performance_rank,IntegerType,true),StructField(goals_scored,IntegerType,true),StructField(goals_conceded,IntegerType,true),StructField(goal_difference,IntegerType,true),StructField(total_goal_count,IntegerType,true),StructField(points_per_game,DoubleType,true)))"
      ]
     },
     "execution_count": 39,
     "metadata": {},
     "output_type": "execute_result"
    }
   ],
   "source": [
    "sq.schema"
   ]
  },
  {
   "cell_type": "code",
   "execution_count": 40,
   "metadata": {
    "scrolled": false
   },
   "outputs": [
    {
     "name": "stdout",
     "output_type": "stream",
     "text": [
      "+--------------------+-------+-------------+----+-----+------+---------------+----------------+------------+--------------+---------------+----------------+---------------+\n",
      "|            TeamName|country|MatchesPlayed|wins|draws|losses|league_position|performance_rank|goals_scored|goals_conceded|goal_difference|total_goal_count|points_per_game|\n",
      "+--------------------+-------+-------------+----+-----+------+---------------+----------------+------------+--------------+---------------+----------------+---------------+\n",
      "|          Arsenal FC|England|           38|  21|    7|    10|              5|               5|          73|            51|             22|             124|           1.84|\n",
      "|Tottenham Hotspur FC|England|           38|  23|    2|    13|              4|               4|          67|            39|             28|             106|           1.87|\n",
      "|  Manchester City FC|England|           38|  32|    2|     4|              1|               1|          95|            23|             72|             118|           2.58|\n",
      "|   Leicester City FC|England|           38|  15|    7|    16|              9|               9|          51|            48|              3|              99|           1.37|\n",
      "|   Crystal Palace FC|England|           38|  14|    7|    17|             12|              12|          51|            53|             -2|             104|           1.29|\n",
      "|          Everton FC|England|           38|  15|    9|    14|              8|               8|          54|            46|              8|             100|           1.42|\n",
      "|          Burnley FC|England|           38|  11|    7|    20|             15|              15|          45|            68|            -23|             113|           1.05|\n",
      "|      Southampton FC|England|           38|   9|   12|    17|             16|              16|          45|            65|            -20|             110|           1.03|\n",
      "|     AFC Bournemouth|England|           38|  13|    6|    19|             14|              14|          56|            70|            -14|             126|           1.18|\n",
      "|Manchester United FC|England|           38|  19|    9|    10|              6|               6|          65|            54|             11|             119|           1.74|\n",
      "|        Liverpool FC|England|           38|  30|    7|     1|              2|               2|          89|            22|             67|             111|           2.55|\n",
      "|          Chelsea FC|England|           38|  21|    9|     8|              3|               3|          63|            39|             24|             102|           1.89|\n",
      "|  West Ham United FC|England|           38|  15|    7|    16|             10|              10|          52|            55|             -3|             107|           1.37|\n",
      "|          Watford FC|England|           38|  14|    8|    16|             11|              11|          52|            59|             -7|             111|           1.32|\n",
      "| Newcastle United FC|England|           38|  12|    9|    17|             13|              13|          42|            48|             -6|              90|           1.18|\n",
      "|     Cardiff City FC|  Wales|           38|  10|    4|    24|             18|              18|          34|            69|            -35|             103|           0.89|\n",
      "|           Fulham FC|England|           38|   7|    5|    26|             19|              19|          34|            81|            -47|             115|           0.68|\n",
      "|Brighton & Hove A...|England|           38|   9|    9|    20|             17|              17|          35|            60|            -25|              95|           0.95|\n",
      "|Huddersfield Town FC|England|           38|   3|    7|    28|             20|              20|          22|            76|            -54|              98|           0.42|\n",
      "|Wolverhampton Wan...|England|           38|  16|    9|    13|              7|               7|          47|            46|              1|              93|            1.5|\n",
      "+--------------------+-------+-------------+----+-----+------+---------------+----------------+------------+--------------+---------------+----------------+---------------+\n",
      "\n"
     ]
    }
   ],
   "source": [
    "sq.show()"
   ]
  },
  {
   "cell_type": "code",
   "execution_count": 41,
   "metadata": {},
   "outputs": [],
   "source": [
    "df=sq.toPandas() # Convert to pandas DataFrame"
   ]
  },
  {
   "cell_type": "code",
   "execution_count": 42,
   "metadata": {},
   "outputs": [],
   "source": [
    "df.set_index(df.TeamName,inplace=True) # Set Team names as index"
   ]
  },
  {
   "cell_type": "code",
   "execution_count": 43,
   "metadata": {},
   "outputs": [],
   "source": [
    "# Running calculaions for all team\n",
    "# Create a dataFrame for the min,max,median,lowerQuartile and upperQuartile for team performance\n",
    "Data = pd.DataFrame({'Sum':df.sum(axis=1),'Min':df.min(axis=1),'Max':df.max(axis=1),'Median':df.median(axis=1),'LowerQuartile':df.quantile(.25,axis=1),'UpperQuartile':df.quantile(.75,axis=1)})"
   ]
  },
  {
   "cell_type": "code",
   "execution_count": 44,
   "metadata": {},
   "outputs": [
    {
     "data": {
      "text/plain": [
       "<matplotlib.axes._subplots.AxesSubplot at 0xe41f550>"
      ]
     },
     "execution_count": 44,
     "metadata": {},
     "output_type": "execute_result"
    },
    {
     "data": {
      "image/png": "[encoded data removed]",
      "text/plain": [
       "<Figure size 2520x648 with 1 Axes>"
      ]
     },
     "metadata": {
      "needs_background": "light"
     },
     "output_type": "display_data"
    }
   ],
   "source": [
    "# boxplot of Team name and their total sum score\n",
    "plt.figure(figsize=(35,9))\n",
    "sns.boxplot(Data.index,Data.Sum)"
   ]
  },
  {
   "cell_type": "code",
   "execution_count": 45,
   "metadata": {},
   "outputs": [
    {
     "name": "stdout",
     "output_type": "stream",
     "text": [
      "+--------------------+-------+-------------+----+-----+------+---------------+----------------+------------+--------------+---------------+----------------+---------------+--------------------+\n",
      "|            TeamName|country|MatchesPlayed|wins|draws|losses|league_position|performance_rank|goals_scored|goals_conceded|goal_difference|total_goal_count|points_per_game|            Features|\n",
      "+--------------------+-------+-------------+----+-----+------+---------------+----------------+------------+--------------+---------------+----------------+---------------+--------------------+\n",
      "|          Arsenal FC|England|           38|  21|    7|    10|              5|               5|          73|            51|             22|             124|           1.84|[21.0,7.0,38.0,10...|\n",
      "|Tottenham Hotspur FC|England|           38|  23|    2|    13|              4|               4|          67|            39|             28|             106|           1.87|[23.0,2.0,38.0,13...|\n",
      "|  Manchester City FC|England|           38|  32|    2|     4|              1|               1|          95|            23|             72|             118|           2.58|[32.0,2.0,38.0,4....|\n",
      "|   Leicester City FC|England|           38|  15|    7|    16|              9|               9|          51|            48|              3|              99|           1.37|[15.0,7.0,38.0,16...|\n",
      "|   Crystal Palace FC|England|           38|  14|    7|    17|             12|              12|          51|            53|             -2|             104|           1.29|[14.0,7.0,38.0,17...|\n",
      "+--------------------+-------+-------------+----+-----+------+---------------+----------------+------------+--------------+---------------+----------------+---------------+--------------------+\n",
      "only showing top 5 rows\n",
      "\n"
     ]
    }
   ],
   "source": [
    "# putting values in vector and also transforming\n",
    "featureCols = sq.columns[:-1]\n",
    "assembler = VectorAssembler(inputCols=['wins','draws','MatchesPlayed','losses','league_position','performance_rank','goals_scored','goals_conceded','goal_difference','total_goal_count'],outputCol='Features')\n",
    "sq2 = assembler.transform(sq)\n",
    "sq2.show(5)\n",
    "\n"
   ]
  },
  {
   "cell_type": "code",
   "execution_count": null,
   "metadata": {},
   "outputs": [],
   "source": []
  },
  {
   "cell_type": "code",
   "execution_count": 46,
   "metadata": {},
   "outputs": [],
   "source": [
    "# fitting a linear regression model\n",
    "TT = LinearRegression(featuresCol='Features',labelCol='points_per_game')"
   ]
  },
  {
   "cell_type": "code",
   "execution_count": 47,
   "metadata": {},
   "outputs": [],
   "source": [
    "# fit the model\n",
    "model = TT.fit(sq2)"
   ]
  },
  {
   "cell_type": "code",
   "execution_count": 48,
   "metadata": {},
   "outputs": [],
   "source": [
    "# transforming it using spark ml\n",
    "predictions = model.transform(sq2)"
   ]
  },
  {
   "cell_type": "code",
   "execution_count": 49,
   "metadata": {},
   "outputs": [
    {
     "name": "stdout",
     "output_type": "stream",
     "text": [
      "+--------------------+-------------------+\n",
      "|            Features|         prediction|\n",
      "+--------------------+-------------------+\n",
      "|[21.0,7.0,38.0,10...| 1.8422580350661963|\n",
      "|[23.0,2.0,38.0,13...| 1.8671430065607335|\n",
      "|[32.0,2.0,38.0,4....|  2.578031686190119|\n",
      "|[15.0,7.0,38.0,16...| 1.3686205142763683|\n",
      "|[14.0,7.0,38.0,17...| 1.2892797254629809|\n",
      "|[15.0,9.0,38.0,14...| 1.4223039303403673|\n",
      "|[11.0,7.0,38.0,20...| 1.0515096933037733|\n",
      "|[9.0,12.0,38.0,17...| 1.0270058500025825|\n",
      "|[13.0,6.0,38.0,19...| 1.1835592451552368|\n",
      "|[19.0,9.0,38.0,10...| 1.7366128793998135|\n",
      "|[30.0,7.0,38.0,1....| 2.5521955526198603|\n",
      "|[21.0,9.0,38.0,8....| 1.8947299768040113|\n",
      "|[15.0,7.0,38.0,16...| 1.3678729333136463|\n",
      "|[14.0,8.0,38.0,16...| 1.3154369361024971|\n",
      "|[12.0,9.0,38.0,17...|  1.184252432429407|\n",
      "|[10.0,4.0,38.0,24...| 0.8914701295251625|\n",
      "|[7.0,5.0,38.0,26....|  0.681937179237261|\n",
      "|[9.0,9.0,38.0,20....| 0.9463658086451857|\n",
      "|[3.0,7.0,38.0,28....|0.42005389188426756|\n",
      "|[16.0,9.0,38.0,13...| 1.4993605936805312|\n",
      "+--------------------+-------------------+\n",
      "\n"
     ]
    }
   ],
   "source": [
    "# showing predictions of team to won most matches\n",
    "# slicing the data to show only 'Features and Predictions' columns..\n",
    "predictions.select(predictions.columns[13:]).show()"
   ]
  },
  {
   "cell_type": "code",
   "execution_count": 50,
   "metadata": {},
   "outputs": [],
   "source": [
    "# converting the perdictions into pandas DataFrame\n",
    "df2=predictions.toPandas()"
   ]
  },
  {
   "cell_type": "code",
   "execution_count": 51,
   "metadata": {},
   "outputs": [
    {
     "data": {
      "text/html": [
       "<div>\n",
       "<style scoped>\n",
       "    .dataframe tbody tr th:only-of-type {\n",
       "        vertical-align: middle;\n",
       "    }\n",
       "\n",
       "    .dataframe tbody tr th {\n",
       "        vertical-align: top;\n",
       "    }\n",
       "\n",
       "    .dataframe thead th {\n",
       "        text-align: right;\n",
       "    }\n",
       "</style>\n",
       "<table border=\"1\" class=\"dataframe\">\n",
       "  <thead>\n",
       "    <tr style=\"text-align: right;\">\n",
       "      <th></th>\n",
       "      <th>TeamName</th>\n",
       "      <th>total_goal_count</th>\n",
       "      <th>Features</th>\n",
       "      <th>prediction</th>\n",
       "    </tr>\n",
       "  </thead>\n",
       "  <tbody>\n",
       "    <tr>\n",
       "      <th>0</th>\n",
       "      <td>Arsenal FC</td>\n",
       "      <td>124</td>\n",
       "      <td>[21.0, 7.0, 38.0, 10.0, 5.0, 5.0, 73.0, 51.0, ...</td>\n",
       "      <td>1.842258</td>\n",
       "    </tr>\n",
       "    <tr>\n",
       "      <th>1</th>\n",
       "      <td>Tottenham Hotspur FC</td>\n",
       "      <td>106</td>\n",
       "      <td>[23.0, 2.0, 38.0, 13.0, 4.0, 4.0, 67.0, 39.0, ...</td>\n",
       "      <td>1.867143</td>\n",
       "    </tr>\n",
       "    <tr>\n",
       "      <th>2</th>\n",
       "      <td>Manchester City FC</td>\n",
       "      <td>118</td>\n",
       "      <td>[32.0, 2.0, 38.0, 4.0, 1.0, 1.0, 95.0, 23.0, 7...</td>\n",
       "      <td>2.578032</td>\n",
       "    </tr>\n",
       "    <tr>\n",
       "      <th>3</th>\n",
       "      <td>Leicester City FC</td>\n",
       "      <td>99</td>\n",
       "      <td>[15.0, 7.0, 38.0, 16.0, 9.0, 9.0, 51.0, 48.0, ...</td>\n",
       "      <td>1.368621</td>\n",
       "    </tr>\n",
       "    <tr>\n",
       "      <th>4</th>\n",
       "      <td>Crystal Palace FC</td>\n",
       "      <td>104</td>\n",
       "      <td>[14.0, 7.0, 38.0, 17.0, 12.0, 12.0, 51.0, 53.0...</td>\n",
       "      <td>1.289280</td>\n",
       "    </tr>\n",
       "    <tr>\n",
       "      <th>5</th>\n",
       "      <td>Everton FC</td>\n",
       "      <td>100</td>\n",
       "      <td>[15.0, 9.0, 38.0, 14.0, 8.0, 8.0, 54.0, 46.0, ...</td>\n",
       "      <td>1.422304</td>\n",
       "    </tr>\n",
       "    <tr>\n",
       "      <th>6</th>\n",
       "      <td>Burnley FC</td>\n",
       "      <td>113</td>\n",
       "      <td>[11.0, 7.0, 38.0, 20.0, 15.0, 15.0, 45.0, 68.0...</td>\n",
       "      <td>1.051510</td>\n",
       "    </tr>\n",
       "    <tr>\n",
       "      <th>7</th>\n",
       "      <td>Southampton FC</td>\n",
       "      <td>110</td>\n",
       "      <td>[9.0, 12.0, 38.0, 17.0, 16.0, 16.0, 45.0, 65.0...</td>\n",
       "      <td>1.027006</td>\n",
       "    </tr>\n",
       "    <tr>\n",
       "      <th>8</th>\n",
       "      <td>AFC Bournemouth</td>\n",
       "      <td>126</td>\n",
       "      <td>[13.0, 6.0, 38.0, 19.0, 14.0, 14.0, 56.0, 70.0...</td>\n",
       "      <td>1.183559</td>\n",
       "    </tr>\n",
       "    <tr>\n",
       "      <th>9</th>\n",
       "      <td>Manchester United FC</td>\n",
       "      <td>119</td>\n",
       "      <td>[19.0, 9.0, 38.0, 10.0, 6.0, 6.0, 65.0, 54.0, ...</td>\n",
       "      <td>1.736613</td>\n",
       "    </tr>\n",
       "    <tr>\n",
       "      <th>10</th>\n",
       "      <td>Liverpool FC</td>\n",
       "      <td>111</td>\n",
       "      <td>[30.0, 7.0, 38.0, 1.0, 2.0, 2.0, 89.0, 22.0, 6...</td>\n",
       "      <td>2.552196</td>\n",
       "    </tr>\n",
       "    <tr>\n",
       "      <th>11</th>\n",
       "      <td>Chelsea FC</td>\n",
       "      <td>102</td>\n",
       "      <td>[21.0, 9.0, 38.0, 8.0, 3.0, 3.0, 63.0, 39.0, 2...</td>\n",
       "      <td>1.894730</td>\n",
       "    </tr>\n",
       "    <tr>\n",
       "      <th>12</th>\n",
       "      <td>West Ham United FC</td>\n",
       "      <td>107</td>\n",
       "      <td>[15.0, 7.0, 38.0, 16.0, 10.0, 10.0, 52.0, 55.0...</td>\n",
       "      <td>1.367873</td>\n",
       "    </tr>\n",
       "    <tr>\n",
       "      <th>13</th>\n",
       "      <td>Watford FC</td>\n",
       "      <td>111</td>\n",
       "      <td>[14.0, 8.0, 38.0, 16.0, 11.0, 11.0, 52.0, 59.0...</td>\n",
       "      <td>1.315437</td>\n",
       "    </tr>\n",
       "    <tr>\n",
       "      <th>14</th>\n",
       "      <td>Newcastle United FC</td>\n",
       "      <td>90</td>\n",
       "      <td>[12.0, 9.0, 38.0, 17.0, 13.0, 13.0, 42.0, 48.0...</td>\n",
       "      <td>1.184252</td>\n",
       "    </tr>\n",
       "    <tr>\n",
       "      <th>15</th>\n",
       "      <td>Cardiff City FC</td>\n",
       "      <td>103</td>\n",
       "      <td>[10.0, 4.0, 38.0, 24.0, 18.0, 18.0, 34.0, 69.0...</td>\n",
       "      <td>0.891470</td>\n",
       "    </tr>\n",
       "    <tr>\n",
       "      <th>16</th>\n",
       "      <td>Fulham FC</td>\n",
       "      <td>115</td>\n",
       "      <td>[7.0, 5.0, 38.0, 26.0, 19.0, 19.0, 34.0, 81.0,...</td>\n",
       "      <td>0.681937</td>\n",
       "    </tr>\n",
       "    <tr>\n",
       "      <th>17</th>\n",
       "      <td>Brighton &amp; Hove Albion FC</td>\n",
       "      <td>95</td>\n",
       "      <td>[9.0, 9.0, 38.0, 20.0, 17.0, 17.0, 35.0, 60.0,...</td>\n",
       "      <td>0.946366</td>\n",
       "    </tr>\n",
       "    <tr>\n",
       "      <th>18</th>\n",
       "      <td>Huddersfield Town FC</td>\n",
       "      <td>98</td>\n",
       "      <td>[3.0, 7.0, 38.0, 28.0, 20.0, 20.0, 22.0, 76.0,...</td>\n",
       "      <td>0.420054</td>\n",
       "    </tr>\n",
       "    <tr>\n",
       "      <th>19</th>\n",
       "      <td>Wolverhampton Wanderers FC</td>\n",
       "      <td>93</td>\n",
       "      <td>[16.0, 9.0, 38.0, 13.0, 7.0, 7.0, 47.0, 46.0, ...</td>\n",
       "      <td>1.499361</td>\n",
       "    </tr>\n",
       "  </tbody>\n",
       "</table>\n",
       "</div>"
      ],
      "text/plain": [
       "                      TeamName  total_goal_count  \\\n",
       "0                   Arsenal FC               124   \n",
       "1         Tottenham Hotspur FC               106   \n",
       "2           Manchester City FC               118   \n",
       "3            Leicester City FC                99   \n",
       "4            Crystal Palace FC               104   \n",
       "5                   Everton FC               100   \n",
       "6                   Burnley FC               113   \n",
       "7               Southampton FC               110   \n",
       "8              AFC Bournemouth               126   \n",
       "9         Manchester United FC               119   \n",
       "10                Liverpool FC               111   \n",
       "11                  Chelsea FC               102   \n",
       "12          West Ham United FC               107   \n",
       "13                  Watford FC               111   \n",
       "14         Newcastle United FC                90   \n",
       "15             Cardiff City FC               103   \n",
       "16                   Fulham FC               115   \n",
       "17   Brighton & Hove Albion FC                95   \n",
       "18        Huddersfield Town FC                98   \n",
       "19  Wolverhampton Wanderers FC                93   \n",
       "\n",
       "                                             Features  prediction  \n",
       "0   [21.0, 7.0, 38.0, 10.0, 5.0, 5.0, 73.0, 51.0, ...    1.842258  \n",
       "1   [23.0, 2.0, 38.0, 13.0, 4.0, 4.0, 67.0, 39.0, ...    1.867143  \n",
       "2   [32.0, 2.0, 38.0, 4.0, 1.0, 1.0, 95.0, 23.0, 7...    2.578032  \n",
       "3   [15.0, 7.0, 38.0, 16.0, 9.0, 9.0, 51.0, 48.0, ...    1.368621  \n",
       "4   [14.0, 7.0, 38.0, 17.0, 12.0, 12.0, 51.0, 53.0...    1.289280  \n",
       "5   [15.0, 9.0, 38.0, 14.0, 8.0, 8.0, 54.0, 46.0, ...    1.422304  \n",
       "6   [11.0, 7.0, 38.0, 20.0, 15.0, 15.0, 45.0, 68.0...    1.051510  \n",
       "7   [9.0, 12.0, 38.0, 17.0, 16.0, 16.0, 45.0, 65.0...    1.027006  \n",
       "8   [13.0, 6.0, 38.0, 19.0, 14.0, 14.0, 56.0, 70.0...    1.183559  \n",
       "9   [19.0, 9.0, 38.0, 10.0, 6.0, 6.0, 65.0, 54.0, ...    1.736613  \n",
       "10  [30.0, 7.0, 38.0, 1.0, 2.0, 2.0, 89.0, 22.0, 6...    2.552196  \n",
       "11  [21.0, 9.0, 38.0, 8.0, 3.0, 3.0, 63.0, 39.0, 2...    1.894730  \n",
       "12  [15.0, 7.0, 38.0, 16.0, 10.0, 10.0, 52.0, 55.0...    1.367873  \n",
       "13  [14.0, 8.0, 38.0, 16.0, 11.0, 11.0, 52.0, 59.0...    1.315437  \n",
       "14  [12.0, 9.0, 38.0, 17.0, 13.0, 13.0, 42.0, 48.0...    1.184252  \n",
       "15  [10.0, 4.0, 38.0, 24.0, 18.0, 18.0, 34.0, 69.0...    0.891470  \n",
       "16  [7.0, 5.0, 38.0, 26.0, 19.0, 19.0, 34.0, 81.0,...    0.681937  \n",
       "17  [9.0, 9.0, 38.0, 20.0, 17.0, 17.0, 35.0, 60.0,...    0.946366  \n",
       "18  [3.0, 7.0, 38.0, 28.0, 20.0, 20.0, 22.0, 76.0,...    0.420054  \n",
       "19  [16.0, 9.0, 38.0, 13.0, 7.0, 7.0, 47.0, 46.0, ...    1.499361  "
      ]
     },
     "execution_count": 51,
     "metadata": {},
     "output_type": "execute_result"
    }
   ],
   "source": [
    "df2[['TeamName','total_goal_count', 'Features','prediction']]"
   ]
  },
  {
   "cell_type": "code",
   "execution_count": null,
   "metadata": {},
   "outputs": [],
   "source": []
  },
  {
   "cell_type": "code",
   "execution_count": null,
   "metadata": {},
   "outputs": [],
   "source": []
  },
  {
   "cell_type": "code",
   "execution_count": null,
   "metadata": {},
   "outputs": [],
   "source": []
  },
  {
   "cell_type": "code",
   "execution_count": null,
   "metadata": {},
   "outputs": [],
   "source": []
  }
 ],
 "metadata": {
  "kernelspec": {
   "display_name": "Python 3",
   "language": "python",
   "name": "python3"
  },
  "language_info": {
   "codemirror_mode": {
    "name": "ipython",
    "version": 3
   },
   "file_extension": ".py",
   "mimetype": "text/x-python",
   "name": "python",
   "nbconvert_exporter": "python",
   "pygments_lexer": "ipython3",
   "version": "3.8.2"
  }
 },
 "nbformat": 4,
 "nbformat_minor": 4
}
